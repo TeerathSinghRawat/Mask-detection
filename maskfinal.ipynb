{
 "cells": [
  {
   "cell_type": "code",
   "execution_count": 9,
   "id": "be165b3f",
   "metadata": {},
   "outputs": [],
   "source": [
    "import tensorflow as tf\n",
    "from tensorflow import keras\n",
    "from keras import Sequential\n",
    "from keras.layers import Dense,Conv2D,MaxPooling2D,Flatten,BatchNormalization,Dropout\n",
    "model=Sequential()\n",
    "import cv2"
   ]
  },
  {
   "cell_type": "code",
   "execution_count": 6,
   "id": "4977ebaf",
   "metadata": {},
   "outputs": [],
   "source": [
    "import os ,cv2\n",
    "ds=[]\n",
    "categories=['with_mask','without_mask']\n",
    "c=0\n",
    "for category in categories:\n",
    "    path=os.path.join('data',category)\n",
    "    label=categories.index(category)\n",
    "    for file in os.listdir(path):\n",
    "        if c==0:\n",
    "          img_path=os.path.join(path,file)\n",
    "          img=cv2.imread(img_path,1)\n",
    "          img=cv2.resize(img,(224,224))\n",
    "          ds.append([img,label])\n",
    "          c=c+1;\n",
    "        else:\n",
    "          if c<4:\n",
    "            c+=1\n",
    "          else:\n",
    "            if c==4:\n",
    "              c=0\n",
    "              \n",
    "          \n",
    "     "
   ]
  },
  {
   "cell_type": "code",
   "execution_count": 7,
   "id": "ca07b846",
   "metadata": {},
   "outputs": [
    {
     "name": "stdout",
     "output_type": "stream",
     "text": [
      "Sum : 745  Sum1:  766\n"
     ]
    }
   ],
   "source": [
    "sum=0\n",
    "sum1=0\n",
    "for i in ds:\n",
    "  if i[1]==0:\n",
    "    sum=sum+1\n",
    "  else :\n",
    "    sum1=sum1+1  \n",
    "\n",
    "print(\"Sum :\",sum,\" Sum1: \",sum1)"
   ]
  },
  {
   "cell_type": "code",
   "execution_count": 8,
   "id": "39b0e118",
   "metadata": {},
   "outputs": [],
   "source": [
    "import random \n",
    "random.shuffle(ds)\n",
    "X=[]\n",
    "Y=[]\n",
    "\n",
    "for i in ds:\n",
    "    X.append(i[0])\n",
    "    Y.append(i[1])"
   ]
  },
  {
   "cell_type": "code",
   "execution_count": 9,
   "id": "08771a4f",
   "metadata": {},
   "outputs": [],
   "source": [
    "import numpy as np\n",
    "X=np.array(X)\n",
    "Y=np.array(Y)"
   ]
  },
  {
   "cell_type": "code",
   "execution_count": 10,
   "id": "cd73aa97",
   "metadata": {},
   "outputs": [],
   "source": [
    "X=X/255"
   ]
  },
  {
   "cell_type": "code",
   "execution_count": 11,
   "id": "53dc74be",
   "metadata": {},
   "outputs": [],
   "source": [
    "from sklearn.model_selection import train_test_split\n",
    "X_train,X_test,Y_train,Y_test=train_test_split(X,Y,test_size=0.2)"
   ]
  },
  {
   "cell_type": "code",
   "execution_count": 12,
   "id": "ae7b1a4b",
   "metadata": {},
   "outputs": [],
   "source": [
    "X=[]\n",
    "Y=[]\n",
    "\n",
    "for i in ds:\n",
    "    X.append(i[0])\n",
    "    Y.append(i[1])"
   ]
  },
  {
   "cell_type": "code",
   "execution_count": 13,
   "id": "a025d9ac",
   "metadata": {},
   "outputs": [
    {
     "name": "stdout",
     "output_type": "stream",
     "text": [
      "WARNING:tensorflow:From C:\\Users\\teera\\anaconda3\\Lib\\site-packages\\keras\\src\\layers\\pooling\\max_pooling2d.py:161: The name tf.nn.max_pool is deprecated. Please use tf.nn.max_pool2d instead.\n",
      "\n"
     ]
    }
   ],
   "source": [
    "from keras.applications.vgg16 import VGG16\n",
    "vgg=VGG16()"
   ]
  },
  {
   "cell_type": "code",
   "execution_count": 14,
   "id": "0590b14e",
   "metadata": {},
   "outputs": [],
   "source": [
    "for layer in vgg.layers[:-1]:\n",
    "  model.add(layer)"
   ]
  },
  {
   "cell_type": "code",
   "execution_count": 15,
   "id": "8ced10f8",
   "metadata": {},
   "outputs": [
    {
     "name": "stdout",
     "output_type": "stream",
     "text": [
      "Model: \"sequential\"\n",
      "_________________________________________________________________\n",
      " Layer (type)                Output Shape              Param #   \n",
      "=================================================================\n",
      " block1_conv1 (Conv2D)       (None, 224, 224, 64)      1792      \n",
      "                                                                 \n",
      " block1_conv2 (Conv2D)       (None, 224, 224, 64)      36928     \n",
      "                                                                 \n",
      " block1_pool (MaxPooling2D)  (None, 112, 112, 64)      0         \n",
      "                                                                 \n",
      " block2_conv1 (Conv2D)       (None, 112, 112, 128)     73856     \n",
      "                                                                 \n",
      " block2_conv2 (Conv2D)       (None, 112, 112, 128)     147584    \n",
      "                                                                 \n",
      " block2_pool (MaxPooling2D)  (None, 56, 56, 128)       0         \n",
      "                                                                 \n",
      " block3_conv1 (Conv2D)       (None, 56, 56, 256)       295168    \n",
      "                                                                 \n",
      " block3_conv2 (Conv2D)       (None, 56, 56, 256)       590080    \n",
      "                                                                 \n",
      " block3_conv3 (Conv2D)       (None, 56, 56, 256)       590080    \n",
      "                                                                 \n",
      " block3_pool (MaxPooling2D)  (None, 28, 28, 256)       0         \n",
      "                                                                 \n",
      " block4_conv1 (Conv2D)       (None, 28, 28, 512)       1180160   \n",
      "                                                                 \n",
      " block4_conv2 (Conv2D)       (None, 28, 28, 512)       2359808   \n",
      "                                                                 \n",
      " block4_conv3 (Conv2D)       (None, 28, 28, 512)       2359808   \n",
      "                                                                 \n",
      " block4_pool (MaxPooling2D)  (None, 14, 14, 512)       0         \n",
      "                                                                 \n",
      " block5_conv1 (Conv2D)       (None, 14, 14, 512)       2359808   \n",
      "                                                                 \n",
      " block5_conv2 (Conv2D)       (None, 14, 14, 512)       2359808   \n",
      "                                                                 \n",
      " block5_conv3 (Conv2D)       (None, 14, 14, 512)       2359808   \n",
      "                                                                 \n",
      " block5_pool (MaxPooling2D)  (None, 7, 7, 512)         0         \n",
      "                                                                 \n",
      " flatten (Flatten)           (None, 25088)             0         \n",
      "                                                                 \n",
      " fc1 (Dense)                 (None, 4096)              102764544 \n",
      "                                                                 \n",
      " fc2 (Dense)                 (None, 4096)              16781312  \n",
      "                                                                 \n",
      "=================================================================\n",
      "Total params: 134260544 (512.16 MB)\n",
      "Trainable params: 0 (0.00 Byte)\n",
      "Non-trainable params: 134260544 (512.16 MB)\n",
      "_________________________________________________________________\n"
     ]
    }
   ],
   "source": [
    "for layer in model.layers:\n",
    "  layer.trainable=False\n",
    "model.summary()"
   ]
  },
  {
   "cell_type": "code",
   "execution_count": 16,
   "id": "b0e3a836",
   "metadata": {},
   "outputs": [],
   "source": [
    "model.add(Dense(1,activation='sigmoid'))"
   ]
  },
  {
   "cell_type": "code",
   "execution_count": 17,
   "id": "c7da846a",
   "metadata": {},
   "outputs": [
    {
     "name": "stdout",
     "output_type": "stream",
     "text": [
      "WARNING:tensorflow:From C:\\Users\\teera\\anaconda3\\Lib\\site-packages\\keras\\src\\optimizers\\__init__.py:309: The name tf.train.Optimizer is deprecated. Please use tf.compat.v1.train.Optimizer instead.\n",
      "\n",
      "Epoch 1/10\n",
      "WARNING:tensorflow:From C:\\Users\\teera\\anaconda3\\Lib\\site-packages\\keras\\src\\utils\\tf_utils.py:492: The name tf.ragged.RaggedTensorValue is deprecated. Please use tf.compat.v1.ragged.RaggedTensorValue instead.\n",
      "\n",
      "WARNING:tensorflow:From C:\\Users\\teera\\anaconda3\\Lib\\site-packages\\keras\\src\\engine\\base_layer_utils.py:384: The name tf.executing_eagerly_outside_functions is deprecated. Please use tf.compat.v1.executing_eagerly_outside_functions instead.\n",
      "\n",
      "38/38 [==============================] - 144s 4s/step - loss: 0.6216 - accuracy: 0.6755 - val_loss: 0.4810 - val_accuracy: 0.8086\n",
      "Epoch 2/10\n",
      "38/38 [==============================] - 153s 4s/step - loss: 0.4482 - accuracy: 0.8336 - val_loss: 0.4035 - val_accuracy: 0.8383\n",
      "Epoch 3/10\n",
      "38/38 [==============================] - 152s 4s/step - loss: 0.3786 - accuracy: 0.8667 - val_loss: 0.3260 - val_accuracy: 0.9076\n",
      "Epoch 4/10\n",
      "38/38 [==============================] - 187s 5s/step - loss: 0.3260 - accuracy: 0.8907 - val_loss: 0.3042 - val_accuracy: 0.9208\n",
      "Epoch 5/10\n",
      "38/38 [==============================] - 167s 4s/step - loss: 0.2974 - accuracy: 0.9007 - val_loss: 0.2709 - val_accuracy: 0.9109\n",
      "Epoch 6/10\n",
      "38/38 [==============================] - 168s 4s/step - loss: 0.2735 - accuracy: 0.9106 - val_loss: 0.2580 - val_accuracy: 0.9142\n",
      "Epoch 7/10\n",
      "38/38 [==============================] - 160s 4s/step - loss: 0.2627 - accuracy: 0.9098 - val_loss: 0.2350 - val_accuracy: 0.9274\n",
      "Epoch 8/10\n",
      "38/38 [==============================] - 156s 4s/step - loss: 0.2398 - accuracy: 0.9205 - val_loss: 0.2347 - val_accuracy: 0.9340\n",
      "Epoch 9/10\n",
      "38/38 [==============================] - 153s 4s/step - loss: 0.2270 - accuracy: 0.9230 - val_loss: 0.2371 - val_accuracy: 0.9208\n",
      "Epoch 10/10\n",
      "38/38 [==============================] - 155s 4s/step - loss: 0.2137 - accuracy: 0.9346 - val_loss: 0.2188 - val_accuracy: 0.9340\n"
     ]
    },
    {
     "data": {
      "text/plain": [
       "<keras.src.callbacks.History at 0x1c6772161d0>"
      ]
     },
     "execution_count": 17,
     "metadata": {},
     "output_type": "execute_result"
    }
   ],
   "source": [
    "model.compile(optimizer='Adam',loss='binary_crossentropy',metrics=['accuracy'])\n",
    "model.fit(X_train,Y_train,epochs=10,validation_data=(X_test,Y_test))"
   ]
  },
  {
   "cell_type": "code",
   "execution_count": null,
   "id": "0e81fdc0",
   "metadata": {},
   "outputs": [],
   "source": [
    "## 0 for web cam "
   ]
  },
  {
   "cell_type": "code",
   "execution_count": 18,
   "id": "328ecc15",
   "metadata": {},
   "outputs": [
    {
     "name": "stderr",
     "output_type": "stream",
     "text": [
      "C:\\Users\\teera\\anaconda3\\Lib\\site-packages\\keras\\src\\engine\\training.py:3103: UserWarning: You are saving your model as an HDF5 file via `model.save()`. This file format is considered legacy. We recommend using instead the native Keras format, e.g. `model.save('my_model.keras')`.\n",
      "  saving_api.save_model(\n"
     ]
    }
   ],
   "source": [
    "model.save(\"mask_detection_model.h5\")"
   ]
  },
  {
   "cell_type": "code",
   "execution_count": 16,
   "id": "5b40763e",
   "metadata": {},
   "outputs": [
    {
     "name": "stdout",
     "output_type": "stream",
     "text": [
      "1/1 [==============================] - 1s 936ms/step\n",
      "1/1 [==============================] - 0s 332ms/step\n",
      "1/1 [==============================] - 0s 222ms/step\n",
      "1/1 [==============================] - 0s 249ms/step\n",
      "1/1 [==============================] - 0s 204ms/step\n",
      "1/1 [==============================] - 0s 223ms/step\n",
      "1/1 [==============================] - 0s 280ms/step\n",
      "1/1 [==============================] - 0s 215ms/step\n",
      "1/1 [==============================] - 0s 280ms/step\n",
      "1/1 [==============================] - 0s 208ms/step\n",
      "1/1 [==============================] - 0s 294ms/step\n",
      "1/1 [==============================] - 0s 216ms/step\n",
      "1/1 [==============================] - 0s 266ms/step\n",
      "1/1 [==============================] - 0s 203ms/step\n",
      "1/1 [==============================] - 0s 275ms/step\n",
      "1/1 [==============================] - 0s 207ms/step\n",
      "1/1 [==============================] - 0s 294ms/step\n",
      "1/1 [==============================] - 0s 198ms/step\n",
      "1/1 [==============================] - 0s 273ms/step\n",
      "1/1 [==============================] - 0s 204ms/step\n",
      "1/1 [==============================] - 0s 279ms/step\n",
      "1/1 [==============================] - 0s 204ms/step\n",
      "1/1 [==============================] - 0s 236ms/step\n",
      "1/1 [==============================] - 0s 215ms/step\n",
      "1/1 [==============================] - 0s 244ms/step\n",
      "1/1 [==============================] - 0s 202ms/step\n",
      "1/1 [==============================] - 0s 299ms/step\n",
      "1/1 [==============================] - 0s 209ms/step\n",
      "1/1 [==============================] - 0s 231ms/step\n",
      "1/1 [==============================] - 0s 207ms/step\n",
      "1/1 [==============================] - 0s 298ms/step\n",
      "1/1 [==============================] - 0s 220ms/step\n",
      "1/1 [==============================] - 0s 296ms/step\n",
      "1/1 [==============================] - 0s 205ms/step\n",
      "1/1 [==============================] - 0s 283ms/step\n",
      "1/1 [==============================] - 0s 216ms/step\n",
      "1/1 [==============================] - 0s 216ms/step\n",
      "1/1 [==============================] - 0s 285ms/step\n",
      "1/1 [==============================] - 0s 220ms/step\n",
      "1/1 [==============================] - 0s 217ms/step\n",
      "1/1 [==============================] - 0s 252ms/step\n",
      "1/1 [==============================] - 0s 210ms/step\n",
      "1/1 [==============================] - 0s 245ms/step\n",
      "1/1 [==============================] - 0s 208ms/step\n",
      "1/1 [==============================] - 0s 276ms/step\n",
      "1/1 [==============================] - 0s 213ms/step\n",
      "1/1 [==============================] - 0s 251ms/step\n",
      "1/1 [==============================] - 0s 196ms/step\n",
      "1/1 [==============================] - 0s 245ms/step\n",
      "1/1 [==============================] - 0s 210ms/step\n",
      "1/1 [==============================] - 0s 236ms/step\n",
      "1/1 [==============================] - 0s 205ms/step\n",
      "1/1 [==============================] - 0s 279ms/step\n",
      "1/1 [==============================] - 0s 197ms/step\n",
      "1/1 [==============================] - 0s 274ms/step\n",
      "1/1 [==============================] - 0s 204ms/step\n",
      "1/1 [==============================] - 0s 281ms/step\n",
      "1/1 [==============================] - 0s 204ms/step\n",
      "1/1 [==============================] - 0s 279ms/step\n",
      "1/1 [==============================] - 0s 207ms/step\n",
      "1/1 [==============================] - 0s 298ms/step\n",
      "1/1 [==============================] - 0s 214ms/step\n",
      "1/1 [==============================] - 0s 267ms/step\n"
     ]
    }
   ],
   "source": [
    "cap=cv2.VideoCapture(0)\n",
    "while True:\n",
    "  ret,frame=cap.read()\n",
    "  img=cv2.resize(frame,(224,224))\n",
    "  \n",
    "  y_pred=detect_mask(img)\n",
    "  coods=detect_face(cv2.cvtColor(frame,cv2.COLOR_BGR2GRAY))\n",
    "  for x,y,w,h in coods:\n",
    "    cv2.rectangle(frame,(x,y),(x+w,y+h),(255,0,0),thickness=3)\n",
    "  if(y_pred<0.5):\n",
    "        draw_label(frame,\"Masked\",(10,10),(0,255,0))\n",
    "  else:\n",
    "    draw_label(frame,\"No mask\",(10,10),(255,0,0))\n",
    "  cv2.imshow(\"Window\",frame)\n",
    "  if cv2.waitKey(1) & 0xFF == ord('x'):\n",
    "    break\n",
    "cv2.destroyAllWindows()"
   ]
  },
  {
   "cell_type": "code",
   "execution_count": 14,
   "id": "adac2ff6",
   "metadata": {},
   "outputs": [],
   "source": [
    "def detect_mask(img):\n",
    "    y_pred=model.predict(img.reshape(1,224,224,3))\n",
    "    \n",
    "    return y_pred\n"
   ]
  },
  {
   "cell_type": "code",
   "execution_count": 15,
   "id": "28d2c8e0",
   "metadata": {},
   "outputs": [],
   "source": [
    "def draw_label(img,text,pos,bg_color):\n",
    "    text_size=cv2.getTextSize(text,cv2.FONT_HERSHEY_SIMPLEX,1,cv2.FILLED)\n",
    "    \n",
    "    end_X=pos[0]+text_size[0][0]+2\n",
    "    end_y=pos[1]+text_size[0][1]-2\n",
    "    \n",
    "    cv2.rectangle(img,pos,(end_X,end_y),bg_color,cv2.FILLED)\n",
    "    cv2.putText(img,text,pos,cv2.FONT_HERSHEY_SIMPLEX,1,(0,0,0),1,cv2.LINE_AA)\n",
    "    "
   ]
  },
  {
   "cell_type": "code",
   "execution_count": 10,
   "id": "6634353d",
   "metadata": {},
   "outputs": [],
   "source": [
    "from keras.models import load_model"
   ]
  },
  {
   "cell_type": "code",
   "execution_count": 11,
   "id": "6e04b71b",
   "metadata": {},
   "outputs": [],
   "source": [
    "model=load_model(\"mask_detection_model.h5\")"
   ]
  },
  {
   "cell_type": "code",
   "execution_count": 12,
   "id": "d8195c70",
   "metadata": {},
   "outputs": [],
   "source": [
    "# haar=cv2.CascadeClassifier('haarcascade_frontalface_default.xml')\n",
    "haar = cv2.CascadeClassifier(cv2.data.haarcascades + 'haarcascade_frontalface_default.xml')"
   ]
  },
  {
   "cell_type": "code",
   "execution_count": 13,
   "id": "bba27aa2",
   "metadata": {},
   "outputs": [],
   "source": [
    "def detect_face(img):\n",
    "    coods=haar.detectMultiScale(img)\n",
    "    return coods"
   ]
  },
  {
   "cell_type": "code",
   "execution_count": 7,
   "id": "739f0148",
   "metadata": {},
   "outputs": [],
   "source": [
    "cap=cv2.VideoCapture(0)\n",
    "while True:\n",
    "  ret,frame=cap.read()\n",
    "  coods=detect_face(cv2.cvtColor(frame,cv2.COLOR_BGR2GRAY))\n",
    "  for x,y,w,h in coods:\n",
    "    cv2.rectangle(frame,(x,y),(x+w,y+h),(255,0,0),thickness=3)\n",
    "  cv2.imshow(\"Window\",frame)\n",
    "  if cv2.waitKey(1) & 0xFF == ord('x'):\n",
    "    break\n",
    "cv2.destroyAllWindows()"
   ]
  },
  {
   "cell_type": "code",
   "execution_count": null,
   "id": "a33344df",
   "metadata": {},
   "outputs": [],
   "source": []
  }
 ],
 "metadata": {
  "kernelspec": {
   "display_name": "Python 3 (ipykernel)",
   "language": "python",
   "name": "python3"
  },
  "language_info": {
   "codemirror_mode": {
    "name": "ipython",
    "version": 3
   },
   "file_extension": ".py",
   "mimetype": "text/x-python",
   "name": "python",
   "nbconvert_exporter": "python",
   "pygments_lexer": "ipython3",
   "version": "3.11.3"
  }
 },
 "nbformat": 4,
 "nbformat_minor": 5
}
